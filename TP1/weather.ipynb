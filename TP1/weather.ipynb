{
 "cells": [
  {
   "cell_type": "code",
   "execution_count": null,
   "id": "d6e37eca",
   "metadata": {},
   "outputs": [],
   "source": [
    "\n",
    "import os\n",
    "import requests\n",
    "\n",
    "\n",
    "\n",
    "def get_weather():\n",
    "    api_key = os.environ.get('OPENWEATHER_API_KEY')\n",
    "    lat = os.environ.get('LAT')\n",
    "    lon = os.environ.get('LON')\n",
    "    url = f'https://api.openweathermap.org/data/2.5/weather?lat={lat}&lon={lon}&appid={api_key}'\n",
    "    response = requests.get(url)\n",
    "\n",
    "\n",
    "    if response.status_code == 200:\n",
    "        weather_data = response.json()\n",
    "        print(f\"The current weather in ({lat}, {lon}) is {weather_data['weather'][0]['description']}\")\n",
    "    else:\n",
    "        print(f\"Failed to retrieve weather data: {response.status_code} {response.text}\")\n",
    "\n",
    "    return response.json()\n",
    "if __name__ == '__main__':\n",
    "    os.environ['OPENWEATHER_API_KEY'] = '68dffda753df5b17c71723a01bd17b41'\n",
    "    os.environ['LAT'] = '37.7749'\n",
    "    os.environ['LON'] = '-122.4194'\n",
    "    weather_data = get_weather()\n",
    "    print('---------errr')"
   ]
  }
 ],
 "metadata": {
  "kernelspec": {
   "display_name": "Python 3 (ipykernel)",
   "language": "python",
   "name": "python3"
  },
  "language_info": {
   "codemirror_mode": {
    "name": "ipython",
    "version": 3
   },
   "file_extension": ".py",
   "mimetype": "text/x-python",
   "name": "python",
   "nbconvert_exporter": "python",
   "pygments_lexer": "ipython3",
   "version": "3.9.13"
  }
 },
 "nbformat": 4,
 "nbformat_minor": 5
}
